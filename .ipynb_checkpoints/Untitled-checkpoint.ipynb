{
 "cells": [
  {
   "cell_type": "code",
   "execution_count": 1,
   "metadata": {},
   "outputs": [],
   "source": [
    "from pandas import read_csv\n",
    "from sklearn.model_selection import train_test_split\n",
    "from sklearn.linear_model import LinearRegression\n",
    "from sklearn.metrics import mean_absolute_error\n",
    "from sklearn.neighbors import LocalOutlierFactor\n",
    "#Load libraries required for this notebook\n",
    "# Neural networks.\n",
    "import tensorflow.keras as kr\n",
    "\n",
    "# Numerical arrays\n",
    "import numpy as np\n",
    "\n",
    "# Data frames.\n",
    "import pandas as pd\n",
    "\n",
    "# Plotting\n",
    "import matplotlib.pyplot as plt\n",
    "\n",
    "# load the dataset\n",
    "url = 'https://raw.githubusercontent.com/jbrownlee/Datasets/master/housing.csv'\n",
    "df = read_csv(url, header=None)\n",
    "# retrieve the array\n",
    "data = df.values\n",
    "# split into inpiut and output elements\n",
    "X, y = data[:, :-1], data[:, -1]"
   ]
  },
  {
   "cell_type": "code",
   "execution_count": 2,
   "metadata": {},
   "outputs": [
    {
     "name": "stdout",
     "output_type": "stream",
     "text": [
      "MAE: 3.417\n"
     ]
    }
   ],
   "source": [
    "# split into train and test sets\n",
    "X_train, X_test, y_train, y_test = train_test_split(X, y, test_size=0.33, random_state=1)\n",
    "# fit the model\n",
    "model = LinearRegression()\n",
    "model.fit(X_train, y_train)\n",
    "# evaluate the model\n",
    "yhat = model.predict(X_test)\n",
    "# evaluate predictions\n",
    "mae = mean_absolute_error(y_test, yhat)\n",
    "print('MAE: %.3f' % mae)"
   ]
  },
  {
   "cell_type": "code",
   "execution_count": 3,
   "metadata": {},
   "outputs": [
    {
     "data": {
      "text/plain": [
       "array([ 1,  1,  1,  1,  1, -1,  1, -1,  1,  1,  1,  1,  1,  1,  1,  1,  1,\n",
       "        1,  1,  1,  1,  1,  1,  1,  1,  1,  1,  1,  1,  1,  1,  1, -1,  1,\n",
       "        1,  1,  1,  1,  1,  1,  1,  1,  1,  1,  1,  1,  1, -1,  1, -1,  1,\n",
       "        1,  1, -1,  1,  1,  1,  1,  1,  1,  1,  1,  1,  1, -1,  1,  1,  1,\n",
       "        1,  1,  1, -1,  1,  1,  1,  1,  1, -1,  1,  1,  1,  1,  1,  1, -1,\n",
       "        1,  1,  1,  1,  1,  1,  1,  1,  1,  1,  1,  1,  1,  1,  1,  1, -1,\n",
       "        1,  1,  1,  1,  1,  1,  1,  1,  1, -1,  1,  1,  1,  1,  1,  1, -1,\n",
       "        1,  1, -1,  1,  1,  1,  1,  1,  1,  1,  1,  1,  1,  1,  1,  1,  1,\n",
       "        1,  1,  1, -1,  1,  1,  1,  1,  1,  1,  1,  1,  1,  1,  1,  1,  1,\n",
       "        1,  1,  1,  1, -1,  1,  1,  1,  1,  1,  1,  1,  1,  1,  1,  1,  1,\n",
       "        1,  1,  1,  1,  1,  1,  1,  1,  1, -1,  1,  1,  1,  1,  1,  1,  1,\n",
       "        1,  1,  1,  1,  1, -1,  1,  1,  1,  1,  1,  1,  1,  1,  1,  1,  1,\n",
       "        1,  1,  1,  1,  1,  1,  1,  1,  1,  1,  1,  1,  1,  1,  1,  1,  1,\n",
       "        1,  1,  1, -1,  1,  1,  1,  1,  1,  1,  1,  1,  1,  1,  1, -1,  1,\n",
       "        1,  1,  1,  1, -1,  1,  1,  1,  1,  1,  1,  1,  1,  1,  1, -1,  1,\n",
       "        1,  1, -1,  1,  1, -1,  1, -1,  1,  1,  1,  1, -1,  1,  1,  1,  1,\n",
       "        1,  1,  1,  1,  1,  1,  1,  1,  1,  1,  1, -1,  1, -1,  1,  1,  1,\n",
       "        1,  1,  1,  1,  1,  1, -1,  1,  1,  1,  1,  1,  1,  1,  1,  1,  1,\n",
       "        1,  1,  1,  1,  1, -1, -1, -1,  1,  1,  1,  1,  1,  1,  1,  1,  1,\n",
       "        1,  1,  1, -1,  1,  1,  1,  1,  1, -1,  1,  1,  1,  1,  1,  1])"
      ]
     },
     "execution_count": 3,
     "metadata": {},
     "output_type": "execute_result"
    }
   ],
   "source": [
    "# identify outliers in the training dataset\n",
    "lof = LocalOutlierFactor()\n",
    "yhat = lof.fit_predict(X_train)\n",
    "yhat"
   ]
  },
  {
   "cell_type": "code",
   "execution_count": 4,
   "metadata": {},
   "outputs": [
    {
     "data": {
      "text/plain": [
       "506"
      ]
     },
     "execution_count": 4,
     "metadata": {},
     "output_type": "execute_result"
    }
   ],
   "source": [
    "len(X)"
   ]
  },
  {
   "cell_type": "code",
   "execution_count": 5,
   "metadata": {},
   "outputs": [
    {
     "data": {
      "text/plain": [
       "339"
      ]
     },
     "execution_count": 5,
     "metadata": {},
     "output_type": "execute_result"
    }
   ],
   "source": [
    "len(X_train)"
   ]
  },
  {
   "cell_type": "code",
   "execution_count": 6,
   "metadata": {},
   "outputs": [
    {
     "data": {
      "text/plain": [
       "339"
      ]
     },
     "execution_count": 6,
     "metadata": {},
     "output_type": "execute_result"
    }
   ],
   "source": [
    "len(yhat)"
   ]
  },
  {
   "cell_type": "code",
   "execution_count": 7,
   "metadata": {},
   "outputs": [],
   "source": [
    "# select all rows that are not outliers\n",
    "mask = yhat != -1\n",
    "X_train, y_train = X_train[mask, :], y_train[mask]"
   ]
  },
  {
   "cell_type": "code",
   "execution_count": 8,
   "metadata": {},
   "outputs": [
    {
     "data": {
      "text/plain": [
       "305"
      ]
     },
     "execution_count": 8,
     "metadata": {},
     "output_type": "execute_result"
    }
   ],
   "source": [
    "len(X_train)"
   ]
  },
  {
   "cell_type": "code",
   "execution_count": 69,
   "metadata": {},
   "outputs": [],
   "source": [
    "data = pd.read_csv('Data/powerproduction.txt')"
   ]
  },
  {
   "cell_type": "code",
   "execution_count": 70,
   "metadata": {},
   "outputs": [
    {
     "data": {
      "text/html": [
       "<div>\n",
       "<style scoped>\n",
       "    .dataframe tbody tr th:only-of-type {\n",
       "        vertical-align: middle;\n",
       "    }\n",
       "\n",
       "    .dataframe tbody tr th {\n",
       "        vertical-align: top;\n",
       "    }\n",
       "\n",
       "    .dataframe thead th {\n",
       "        text-align: right;\n",
       "    }\n",
       "</style>\n",
       "<table border=\"1\" class=\"dataframe\">\n",
       "  <thead>\n",
       "    <tr style=\"text-align: right;\">\n",
       "      <th></th>\n",
       "      <th>speed</th>\n",
       "      <th>power</th>\n",
       "    </tr>\n",
       "  </thead>\n",
       "  <tbody>\n",
       "    <tr>\n",
       "      <th>0</th>\n",
       "      <td>0.000</td>\n",
       "      <td>0.0</td>\n",
       "    </tr>\n",
       "    <tr>\n",
       "      <th>1</th>\n",
       "      <td>0.125</td>\n",
       "      <td>0.0</td>\n",
       "    </tr>\n",
       "    <tr>\n",
       "      <th>2</th>\n",
       "      <td>0.150</td>\n",
       "      <td>0.0</td>\n",
       "    </tr>\n",
       "    <tr>\n",
       "      <th>3</th>\n",
       "      <td>0.225</td>\n",
       "      <td>0.0</td>\n",
       "    </tr>\n",
       "    <tr>\n",
       "      <th>4</th>\n",
       "      <td>0.275</td>\n",
       "      <td>0.0</td>\n",
       "    </tr>\n",
       "    <tr>\n",
       "      <th>...</th>\n",
       "      <td>...</td>\n",
       "      <td>...</td>\n",
       "    </tr>\n",
       "    <tr>\n",
       "      <th>495</th>\n",
       "      <td>24.775</td>\n",
       "      <td>0.0</td>\n",
       "    </tr>\n",
       "    <tr>\n",
       "      <th>496</th>\n",
       "      <td>24.850</td>\n",
       "      <td>0.0</td>\n",
       "    </tr>\n",
       "    <tr>\n",
       "      <th>497</th>\n",
       "      <td>24.875</td>\n",
       "      <td>0.0</td>\n",
       "    </tr>\n",
       "    <tr>\n",
       "      <th>498</th>\n",
       "      <td>24.950</td>\n",
       "      <td>0.0</td>\n",
       "    </tr>\n",
       "    <tr>\n",
       "      <th>499</th>\n",
       "      <td>25.000</td>\n",
       "      <td>0.0</td>\n",
       "    </tr>\n",
       "  </tbody>\n",
       "</table>\n",
       "<p>500 rows × 2 columns</p>\n",
       "</div>"
      ],
      "text/plain": [
       "      speed  power\n",
       "0     0.000    0.0\n",
       "1     0.125    0.0\n",
       "2     0.150    0.0\n",
       "3     0.225    0.0\n",
       "4     0.275    0.0\n",
       "..      ...    ...\n",
       "495  24.775    0.0\n",
       "496  24.850    0.0\n",
       "497  24.875    0.0\n",
       "498  24.950    0.0\n",
       "499  25.000    0.0\n",
       "\n",
       "[500 rows x 2 columns]"
      ]
     },
     "execution_count": 70,
     "metadata": {},
     "output_type": "execute_result"
    }
   ],
   "source": [
    "df = pd.DataFrame(data)\n",
    "df"
   ]
  },
  {
   "cell_type": "code",
   "execution_count": 71,
   "metadata": {},
   "outputs": [
    {
     "data": {
      "text/plain": [
       "<function matplotlib.pyplot.show(close=None, block=None)>"
      ]
     },
     "execution_count": 71,
     "metadata": {},
     "output_type": "execute_result"
    },
    {
     "data": {
      "image/png": "[encoded data removed]",
      "text/plain": [
       "<Figure size 432x288 with 1 Axes>"
      ]
     },
     "metadata": {
      "needs_background": "light"
     },
     "output_type": "display_data"
    }
   ],
   "source": [
    "# Plot the values.\n",
    "df.plot(x=\"speed\", y=\"power\", style='k.')\n",
    "plt.title('Wind Turbine - Power vs Speed', size=25)\n",
    "plt.xlabel('Speed (m/s)', size=15)\n",
    "plt.ylabel('Power (MW)', size=15)\n",
    "# Show grid lines\n",
    "plt.grid(b=True, which='major', color='grey', linestyle='-')\n",
    "plt.show"
   ]
  },
  {
   "cell_type": "code",
   "execution_count": 73,
   "metadata": {},
   "outputs": [
    {
     "name": "stdout",
     "output_type": "stream",
     "text": [
      "speed    12.4505\n",
      "power    88.2490\n",
      "dtype: float64\n"
     ]
    }
   ],
   "source": [
    "Q1 = df.quantile(0.25)\n",
    "Q3 = df.quantile(0.75)\n",
    "IQR = Q3 - Q1\n",
    "print(IQR)"
   ]
  },
  {
   "cell_type": "code",
   "execution_count": 74,
   "metadata": {},
   "outputs": [
    {
     "data": {
      "text/plain": [
       "(500, 2)"
      ]
     },
     "execution_count": 74,
     "metadata": {},
     "output_type": "execute_result"
    }
   ],
   "source": [
    "df_out = df[~((df < (Q1 - 1.5 * IQR)) |(df > (Q3 + 1.5 * IQR))).any(axis=1)]\n",
    "df_out.shape"
   ]
  },
  {
   "cell_type": "code",
   "execution_count": null,
   "metadata": {},
   "outputs": [],
   "source": []
  },
  {
   "cell_type": "code",
   "execution_count": null,
   "metadata": {},
   "outputs": [],
   "source": []
  },
  {
   "cell_type": "code",
   "execution_count": null,
   "metadata": {},
   "outputs": [],
   "source": []
  },
  {
   "cell_type": "code",
   "execution_count": null,
   "metadata": {},
   "outputs": [],
   "source": []
  },
  {
   "cell_type": "code",
   "execution_count": null,
   "metadata": {},
   "outputs": [],
   "source": []
  },
  {
   "cell_type": "code",
   "execution_count": null,
   "metadata": {},
   "outputs": [],
   "source": []
  },
  {
   "cell_type": "code",
   "execution_count": 68,
   "metadata": {},
   "outputs": [
    {
     "data": {
      "text/plain": [
       "array([ 1,  1,  1,  1,  1,  1,  1,  1,  1,  1,  1,  1,  1,  1,  1,  1,  1,\n",
       "        1,  1,  1,  1,  1,  1,  1,  1,  1,  1,  1,  1,  1,  1,  1,  1,  1,\n",
       "        1,  1,  1,  1,  1,  1,  1,  1,  1,  1,  1,  1,  1,  1,  1,  1,  1,\n",
       "        1,  1,  1, -1,  1,  1,  1,  1,  1,  1,  1,  1,  1,  1,  1,  1,  1,\n",
       "        1,  1,  1,  1,  1,  1,  1,  1,  1,  1,  1,  1,  1,  1,  1,  1,  1,\n",
       "        1,  1,  1,  1,  1,  1,  1,  1,  1,  1,  1,  1,  1,  1,  1,  1,  1,\n",
       "        1,  1,  1,  1,  1,  1,  1,  1,  1,  1,  1,  1,  1,  1,  1,  1,  1,\n",
       "        1,  1,  1,  1,  1,  1,  1,  1,  1,  1,  1,  1,  1,  1,  1,  1,  1,\n",
       "        1,  1,  1,  1,  1,  1,  1,  1,  1,  1,  1,  1,  1,  1,  1,  1,  1,\n",
       "        1,  1,  1,  1,  1,  1,  1,  1,  1,  1,  1,  1,  1,  1,  1,  1,  1,\n",
       "        1,  1,  1,  1,  1,  1,  1,  1,  1,  1,  1,  1,  1,  1,  1,  1,  1,\n",
       "        1,  1,  1,  1,  1,  1,  1,  1,  1,  1,  1,  1,  1,  1,  1,  1,  1,\n",
       "        1,  1,  1,  1, -1,  1,  1,  1,  1,  1,  1,  1,  1,  1,  1,  1,  1,\n",
       "        1,  1,  1,  1,  1,  1,  1,  1,  1,  1,  1,  1,  1,  1,  1,  1,  1,\n",
       "        1,  1,  1,  1,  1,  1,  1,  1,  1,  1,  1,  1,  1,  1,  1,  1,  1,\n",
       "        1,  1,  1,  1,  1,  1,  1,  1,  1,  1,  1,  1,  1,  1,  1,  1,  1,\n",
       "        1,  1,  1,  1,  1,  1,  1,  1,  1,  1,  1,  1,  1,  1,  1,  1,  1,\n",
       "        1,  1,  1,  1,  1,  1,  1,  1,  1,  1,  1,  1,  1,  1,  1,  1,  1,\n",
       "        1,  1,  1,  1,  1,  1,  1,  1,  1,  1,  1,  1,  1,  1,  1,  1,  1,\n",
       "        1,  1,  1,  1,  1,  1,  1,  1,  1,  1,  1,  1,  1,  1,  1,  1,  1,\n",
       "       -1,  1,  1,  1,  1,  1,  1,  1,  1,  1,  1,  1,  1,  1,  1,  1,  1,\n",
       "        1,  1,  1,  1,  1,  1,  1,  1,  1,  1,  1,  1,  1,  1,  1,  1,  1,\n",
       "        1,  1,  1,  1,  1,  1,  1,  1,  1,  1,  1,  1,  1,  1,  1,  1,  1,\n",
       "        1,  1,  1,  1,  1,  1,  1,  1,  1,  1,  1,  1,  1, -1,  1,  1,  1,\n",
       "        1,  1,  1,  1,  1,  1,  1,  1, -1,  1,  1,  1, -1,  1,  1,  1,  1,\n",
       "       -1,  1,  1,  1,  1,  1,  1,  1,  1,  1,  1,  1,  1,  1,  1,  1,  1,\n",
       "        1,  1,  1,  1,  1, -1,  1,  1,  1,  1,  1,  1,  1,  1, -1,  1,  1,\n",
       "        1,  1, -1,  1,  1, -1,  1,  1,  1,  1,  1,  1,  1,  1,  1,  1,  1,\n",
       "        1,  1,  1,  1,  1,  1,  1,  1,  1,  1,  1,  1,  1,  1, -1, -1, -1,\n",
       "       -1, -1, -1, -1, -1, -1, -1])"
      ]
     },
     "execution_count": 68,
     "metadata": {},
     "output_type": "execute_result"
    }
   ],
   "source": [
    "# fit the model for outlier detection (default)\n",
    "clf = LocalOutlierFactor(n_neighbors=20)\n",
    "# use fit_predict to compute the predicted labels of the training samples\n",
    "# (when LOF is used for outlier detection, the estimator has no predict,\n",
    "# decision_function and score_samples methods).\n",
    "y_pred = clf.fit_predict(df)\n",
    "y_pred"
   ]
  },
  {
   "cell_type": "code",
   "execution_count": 65,
   "metadata": {},
   "outputs": [
    {
     "data": {
      "text/plain": [
       "500"
      ]
     },
     "execution_count": 65,
     "metadata": {},
     "output_type": "execute_result"
    }
   ],
   "source": [
    "len(y_pred)"
   ]
  },
  {
   "cell_type": "code",
   "execution_count": 66,
   "metadata": {},
   "outputs": [
    {
     "data": {
      "text/plain": [
       "array([1, 1, 1, 1, 1, 1, 1, 1, 1, 1, 1, 1, 1, 1, 1, 1, 1, 1, 1, 1, 1, 1,\n",
       "       1, 1, 1, 1, 1, 1, 1, 1, 1, 1, 1, 1, 1, 1, 1, 1, 1, 1, 1, 1, 1, 1,\n",
       "       1, 1, 1, 1, 1, 1, 1, 1, 1, 1, 1, 1, 1, 1, 1, 1, 1, 1, 1, 1, 1, 1,\n",
       "       1, 1, 1, 1, 1, 1, 1, 1, 1, 1, 1, 1, 1, 1, 1, 1, 1, 1, 1, 1, 1, 1,\n",
       "       1, 1, 1, 1, 1, 1, 1, 1, 1, 1, 1, 1, 1, 1, 1, 1, 1, 1, 1, 1, 1, 1,\n",
       "       1, 1, 1, 1, 1, 1, 1, 1, 1, 1, 1, 1, 1, 1, 1, 1, 1, 1, 1, 1, 1, 1,\n",
       "       1, 1, 1, 1, 1, 1, 1, 1, 1, 1, 1, 1, 1, 1, 1, 1, 1, 1, 1, 1, 1, 1,\n",
       "       1, 1, 1, 1, 1, 1, 1, 1, 1, 1, 1, 1, 1, 1, 1, 1, 1, 1, 1, 1, 1, 1,\n",
       "       1, 1, 1, 1, 1, 1, 1, 1, 1, 1, 1, 1, 1, 1, 1, 1, 1, 1, 1, 1, 1, 1,\n",
       "       1, 1, 1, 1, 1, 1, 1, 1, 1, 1, 1, 1, 1, 1, 1, 1, 1, 1, 1, 1, 1, 1,\n",
       "       1, 1, 1, 1, 1, 1, 1, 1, 1, 1, 1, 1, 1, 1, 1, 1, 1, 1, 1, 1, 1, 1,\n",
       "       1, 1, 1, 1, 1, 1, 1, 1, 1, 1, 1, 1, 1, 1, 1, 1, 1, 1, 1, 1, 1, 1,\n",
       "       1, 1, 1, 1, 1, 1, 1, 1, 1, 1, 1, 1, 1, 1, 1, 1, 1, 1, 1, 1, 1, 1,\n",
       "       1, 1, 1, 1, 1, 1, 1, 1, 1, 1, 1, 1, 1, 1, 1, 1, 1, 1, 1, 1, 1, 1,\n",
       "       1, 1, 1, 1, 1, 1, 1, 1, 1, 1, 1, 1, 1, 1, 1, 1, 1, 1, 1, 1, 1, 1,\n",
       "       1, 1, 1, 1, 1, 1, 1, 1, 1, 1, 1, 1, 1, 1, 1, 1, 1, 1, 1, 1, 1, 1,\n",
       "       1, 1, 1, 1, 1, 1, 1, 1, 1, 1, 1, 1, 1, 1, 1, 1, 1, 1, 1, 1, 1, 1,\n",
       "       1, 1, 1, 1, 1, 1, 1, 1, 1, 1, 1, 1, 1, 1, 1, 1, 1, 1, 1, 1, 1, 1,\n",
       "       1, 1, 1, 1, 1, 1, 1, 1, 1, 1, 1, 1, 1, 1, 1, 1, 1, 1, 1, 1, 1, 1,\n",
       "       1, 1, 1, 1, 1, 1, 1, 1, 1, 1, 1, 1, 1, 1, 1, 1, 1, 1, 1, 1, 1, 1,\n",
       "       1, 1, 1, 1, 1, 1, 1, 1, 1, 1, 1, 1, 1, 1, 1, 1, 1, 1, 1, 1, 1, 1,\n",
       "       1, 1, 1, 1, 1, 1, 1, 1, 1, 1, 1, 1, 1, 1, 1, 1, 1, 1, 1, 1, 1, 1,\n",
       "       1, 1, 1, 1, 1, 1, 1, 1, 1, 1, 1, 1, 1, 1, 1, 1])"
      ]
     },
     "execution_count": 66,
     "metadata": {},
     "output_type": "execute_result"
    }
   ],
   "source": [
    "ground_truth = np.ones(len(df), dtype=int)\n",
    "ground_truth"
   ]
  },
  {
   "cell_type": "code",
   "execution_count": 67,
   "metadata": {},
   "outputs": [
    {
     "data": {
      "text/plain": [
       "19"
      ]
     },
     "execution_count": 67,
     "metadata": {},
     "output_type": "execute_result"
    }
   ],
   "source": [
    "n_errors = (y_pred != ground_truth).sum()\n",
    "n_errors"
   ]
  },
  {
   "cell_type": "code",
   "execution_count": 55,
   "metadata": {},
   "outputs": [
    {
     "data": {
      "text/plain": [
       "array([-1.03725338, -1.01398175, -1.01063568, -1.00315208, -0.99890554,\n",
       "       -1.1840964 , -1.13717327, -1.13348411, -1.0070894 , -1.08742087,\n",
       "       -1.09198408, -1.13171207, -1.13648918, -1.15895733, -1.30004571,\n",
       "       -1.00054662, -1.00136746, -1.12426162, -1.01461459, -1.12873755,\n",
       "       -1.04871206, -1.00812362, -1.0447699 , -1.07937506, -1.01039666,\n",
       "       -1.03302954, -1.01091129, -1.01265092, -0.97108531, -1.02208327,\n",
       "       -1.0724668 , -1.00736129, -1.0651278 , -1.00817935, -1.07647944,\n",
       "       -0.9878561 , -1.10858419, -0.98773896, -1.00522208, -0.97456859,\n",
       "       -1.00578426, -1.10979124, -0.96055114, -0.95977532, -0.9618049 ,\n",
       "       -1.00734377, -1.00396467, -0.97883318, -1.00244637, -1.100143  ,\n",
       "       -1.00012728, -1.00369215, -1.02999867, -1.09831561, -1.83552703,\n",
       "       -0.99174268, -1.00799764, -0.99336952, -0.99930291, -1.01151356,\n",
       "       -1.03260816, -1.00417633, -1.05043337, -0.97321735, -1.11333585,\n",
       "       -1.01044672, -1.08045661, -1.00674737, -0.97878997, -1.22593761,\n",
       "       -0.99463931, -0.96903094, -1.0735291 , -0.98828467, -0.98529952,\n",
       "       -0.97533015, -1.05692803, -1.05415509, -0.97386892, -0.96242146,\n",
       "       -0.98764175, -1.01933972, -0.98708347, -0.98127296, -1.00491594,\n",
       "       -1.11777742, -1.43353532, -0.9757481 , -1.2392642 , -0.97166142,\n",
       "       -1.08971219, -0.96256487, -0.96961969, -0.96548998, -1.09756915,\n",
       "       -0.9926572 , -1.06655378, -1.0081089 , -0.95651881, -1.0033144 ,\n",
       "       -0.98375254, -1.23511978, -0.9518826 , -0.99265188, -0.98794751,\n",
       "       -1.023247  , -1.02357128, -0.98314369, -0.97533385, -0.98880886,\n",
       "       -1.02946805, -1.03025661, -0.97557912, -0.99412462, -1.02880868,\n",
       "       -0.96764402, -0.98711579, -0.97435695, -0.98958962, -0.99055244,\n",
       "       -1.03245257, -1.0457368 , -1.00517536, -0.97476661, -1.01610482,\n",
       "       -0.98689918, -1.00743097, -0.99065768, -1.00501093, -0.98793468,\n",
       "       -0.9996078 , -0.98596577, -1.06547625, -1.09335234, -0.97818374,\n",
       "       -1.10326604, -1.11962514, -0.9907378 , -1.09909028, -0.97760364,\n",
       "       -1.1382677 , -0.98347741, -1.14504171, -0.9776886 , -0.98677175,\n",
       "       -1.00599905, -1.00362189, -1.01780551, -1.06672859, -1.20369808,\n",
       "       -0.96997407, -1.01311293, -0.96811045, -1.02229784, -0.9976056 ,\n",
       "       -0.98915022, -1.03530983, -1.02670064, -1.02127168, -0.98381927,\n",
       "       -1.02077485, -1.01531394, -1.01150905, -1.01476828, -1.02438944,\n",
       "       -1.02334099, -0.97512562, -0.97632751, -0.98642074, -1.03293236,\n",
       "       -1.26293113, -1.02355131, -1.00372792, -1.0220185 , -0.98888623,\n",
       "       -0.98806698, -1.0212545 , -1.01102171, -1.03660993, -1.12291909,\n",
       "       -1.04317948, -1.00223001, -1.01825025, -1.14284851, -1.14480414,\n",
       "       -1.06787103, -1.01475983, -1.10020678, -1.04189121, -1.01760891,\n",
       "       -1.00499048, -1.01909942, -1.0086912 , -1.00285465, -1.15613022,\n",
       "       -1.02046918, -1.17394841, -1.01660902, -1.00049006, -1.02619834,\n",
       "       -1.09621118, -1.17447383, -1.00436629, -1.00895465, -1.17041606,\n",
       "       -1.00841679, -1.09402526, -1.02147748, -2.23443226, -1.03956886,\n",
       "       -1.02114785, -1.01907141, -1.01065159, -1.03733285, -1.00593666,\n",
       "       -1.00388761, -1.01349994, -1.00647736, -1.00852213, -1.00159877,\n",
       "       -1.0056541 , -1.00159877, -1.07410893, -0.99381561, -1.0590238 ,\n",
       "       -1.0178026 , -1.01040842, -1.00159877, -0.99432629, -0.98168999,\n",
       "       -1.0116463 , -1.03732372, -1.01391847, -0.99555644, -1.14377501,\n",
       "       -1.0219315 , -1.02548603, -0.99114856, -0.99580393, -0.9464156 ,\n",
       "       -0.95797457, -0.9903452 , -0.95539919, -1.03282978, -0.99744722,\n",
       "       -1.02622685, -1.20139288, -0.94790162, -0.94797718, -0.94729978,\n",
       "       -0.9804694 , -1.24030776, -1.14766813, -0.9464156 , -1.13420165,\n",
       "       -1.03496615, -1.12930908, -1.05332269, -1.23720144, -1.20981022,\n",
       "       -1.09863162, -1.22922051, -1.02297906, -1.21059294, -0.99362456,\n",
       "       -1.04269736, -0.97497356, -0.97816827, -1.01221045, -1.12915864,\n",
       "       -1.01330062, -0.99381451, -0.99137968, -0.97629799, -0.98619418,\n",
       "       -0.97509346, -0.97443987, -0.96957564, -0.9738694 , -0.98717167,\n",
       "       -0.97729907, -1.03973862, -0.99381451, -1.03858318, -1.04507946,\n",
       "       -0.97196377, -1.04483633, -1.00242626, -1.00746525, -0.98600137,\n",
       "       -1.07563194, -1.04712427, -1.04676451, -1.0396466 , -1.00795234,\n",
       "       -1.00921449, -0.98600137, -1.01856773, -1.02050279, -1.04230497,\n",
       "       -1.0197456 , -1.15284914, -1.00945289, -1.11046239, -1.01908276,\n",
       "       -1.00541613, -1.14960671, -1.06038972, -1.15467051, -1.12704152,\n",
       "       -1.02050279, -1.11736846, -1.09895655, -1.00938339, -1.00921345,\n",
       "       -1.00234079, -1.11410826, -0.96979466, -1.13795263, -1.09954678,\n",
       "       -1.14968758, -1.04835863, -1.00376954, -1.15029021, -1.07283329,\n",
       "       -1.01415292, -1.11599344, -1.02090138, -0.96840563, -1.09086454,\n",
       "       -0.95629358, -1.06886923, -0.97279499, -1.06242069, -1.0609246 ,\n",
       "       -1.00124147, -0.98220983, -1.07653694, -0.98259055, -1.04845813,\n",
       "       -2.94436145, -1.11410272, -1.04703066, -0.9731802 , -0.98288821,\n",
       "       -1.03424306, -1.15742517, -1.0919214 , -0.97162677, -1.03785164,\n",
       "       -0.96499362, -0.96959298, -0.96430298, -1.03056703, -1.20374833,\n",
       "       -1.05789919, -1.01074051, -0.98055299, -0.97229901, -0.99627926,\n",
       "       -1.02101384, -0.97779039, -1.04213169, -0.97533395, -0.98334702,\n",
       "       -0.97709925, -0.96131658, -0.98135408, -1.03875131, -1.23643532,\n",
       "       -1.01971066, -0.98422187, -1.00475986, -1.00476092, -1.09814611,\n",
       "       -1.0036974 , -1.00972906, -1.11261133, -1.06954088, -0.97053001,\n",
       "       -1.00743911, -1.08546753, -1.00687849, -0.97712107, -1.13983543,\n",
       "       -1.00366765, -0.98125158, -0.98590151, -0.9866555 , -1.00570008,\n",
       "       -1.0397992 , -1.05467636, -1.0416423 , -0.98714162, -0.96730997,\n",
       "       -1.10307288, -1.03798594, -1.00573913, -1.00744714, -1.12516675,\n",
       "       -1.01109613, -0.96398552, -0.96494273, -0.97044372, -3.16085987,\n",
       "       -1.24695685, -0.96416006, -0.97781912, -0.98754522, -0.99864331,\n",
       "       -1.41523612, -0.95915201, -1.10330856, -0.96176901, -0.99415124,\n",
       "       -1.04502441, -2.35536583, -0.96033101, -0.99722251, -1.02640269,\n",
       "       -1.574922  , -0.97771742, -1.00038297, -0.95619143, -0.97765201,\n",
       "       -1.56825779, -0.96236635, -0.95903889, -0.9921007 , -1.44237748,\n",
       "       -1.04624331, -1.1917329 , -0.99577759, -1.02269933, -1.05707469,\n",
       "       -1.05948353, -1.09634305, -0.99807303, -0.96598452, -0.99217726,\n",
       "       -1.07372471, -1.08129845, -0.98016921, -0.99086461, -1.01406744,\n",
       "       -0.99510919, -1.025584  , -1.87026775, -1.01202073, -0.98277462,\n",
       "       -0.98634729, -1.07374031, -0.98662904, -1.02248415, -0.98973658,\n",
       "       -0.98274548, -3.36020086, -0.9855231 , -0.98841761, -0.98534238,\n",
       "       -1.14542971, -2.66678653, -1.00988686, -1.02730768, -1.60664431,\n",
       "       -1.16751855, -1.02635689, -1.0543967 , -1.12507235, -1.02508078,\n",
       "       -0.99050389, -1.00082127, -1.02220254, -1.21563844, -1.02821842,\n",
       "       -1.06420658, -1.03425132, -0.99834184, -1.00451836, -1.04835781,\n",
       "       -1.09003891, -1.33726415, -1.150697  , -1.05654817, -1.03096474,\n",
       "       -1.14647815, -1.14775021, -1.18083985, -1.06905612, -1.06549614,\n",
       "       -3.48261195, -3.48450915, -3.48815797, -3.49363211, -3.50093262,\n",
       "       -3.50275804, -3.50823501, -3.5100609 , -3.51553925, -3.51919205])"
      ]
     },
     "execution_count": 55,
     "metadata": {},
     "output_type": "execute_result"
    }
   ],
   "source": [
    "df_scores = clf.negative_outlier_factor_\n",
    "df_scores"
   ]
  },
  {
   "cell_type": "code",
   "execution_count": null,
   "metadata": {},
   "outputs": [],
   "source": []
  },
  {
   "cell_type": "code",
   "execution_count": null,
   "metadata": {},
   "outputs": [],
   "source": []
  },
  {
   "cell_type": "code",
   "execution_count": 30,
   "metadata": {},
   "outputs": [
    {
     "name": "stdout",
     "output_type": "stream",
     "text": [
      "Automatically created module for IPython interactive environment\n"
     ]
    },
    {
     "data": {
      "text/plain": [
       "array([[ 2.14901425,  1.95852071],\n",
       "       [ 2.19430656,  2.45690896],\n",
       "       [ 1.92975399,  1.92975891],\n",
       "       [ 2.47376384,  2.23023042],\n",
       "       [ 1.85915768,  2.16276801],\n",
       "       [ 1.86097469,  1.86028107],\n",
       "       [ 2.07258868,  1.42601593],\n",
       "       [ 1.48252465,  1.83131374],\n",
       "       [ 1.69615066,  2.0942742 ],\n",
       "       [ 1.72759278,  1.57630889],\n",
       "       [ 2.43969463,  1.93226711],\n",
       "       [ 2.02025846,  1.57257554],\n",
       "       [ 1.83668518,  2.03327678],\n",
       "       [ 1.65470193,  2.11270941],\n",
       "       [ 1.81980839,  1.91249188],\n",
       "       [ 1.81948802,  2.55568346],\n",
       "       [ 1.99595083,  1.68268672],\n",
       "       [ 2.24676347,  1.63374691],\n",
       "       [ 2.06265908,  1.41209896],\n",
       "       [ 1.60154419,  2.05905837],\n",
       "       [ 2.22153997,  2.05141048],\n",
       "       [ 1.96530552,  1.90966889],\n",
       "       [ 1.5564434 ,  1.78404674],\n",
       "       [ 1.86180837,  2.31713667],\n",
       "       [ 2.10308549,  1.47108795],\n",
       "       [ 2.09722519,  1.88447532],\n",
       "       [ 1.7969234 ,  2.18350289],\n",
       "       [ 2.30929986,  2.27938404],\n",
       "       [ 1.74823474,  1.90723629],\n",
       "       [ 2.09937903,  2.29266354],\n",
       "       [ 1.85624773,  1.94430231],\n",
       "       [ 1.66809951,  1.64113801],\n",
       "       [ 2.24375775,  2.40687201],\n",
       "       [ 1.97839696,  2.30105987],\n",
       "       [ 2.10849081,  1.80646407],\n",
       "       [ 2.10841868,  2.46141097],\n",
       "       [ 1.98925219,  2.4693931 ],\n",
       "       [ 1.21407647,  2.24657075],\n",
       "       [ 2.02611412,  1.91029779],\n",
       "       [ 2.02752823,  1.40372933],\n",
       "       [ 1.93409843,  2.10713377],\n",
       "       [ 2.44336821,  1.84451893],\n",
       "       [ 1.75745192,  1.84947289],\n",
       "       [ 2.27462064,  2.09862533],\n",
       "       [ 1.84107194,  2.15398023],\n",
       "       [ 2.02912326,  2.2905935 ],\n",
       "       [ 1.78938407,  1.90170136],\n",
       "       [ 1.88236755,  1.56094552],\n",
       "       [ 2.08883608,  2.07831658],\n",
       "       [ 2.00153404,  1.92962386],\n",
       "       [ 1.57538878,  1.8738064 ],\n",
       "       [ 1.89718565,  1.75931682],\n",
       "       [ 1.95161429,  2.12121526],\n",
       "       [ 2.56585577,  2.05237334],\n",
       "       [ 2.07726512,  1.97766623],\n",
       "       [ 1.42436864,  1.99204584],\n",
       "       [ 2.01806906,  2.73897263],\n",
       "       [ 1.94229171,  2.0904642 ],\n",
       "       [ 1.98958647,  1.64939659],\n",
       "       [ 2.34284684,  2.22557991],\n",
       "       [ 2.23730958,  1.72718376],\n",
       "       [ 2.42083829,  1.57944468],\n",
       "       [ 2.17605713,  2.65713669],\n",
       "       [ 1.7028391 ,  1.83011068],\n",
       "       [ 2.02989541,  1.8489573 ],\n",
       "       [ 1.53480097,  2.02056889],\n",
       "       [ 1.68130889,  2.14207773],\n",
       "       [ 1.72417273,  2.46498032],\n",
       "       [ 1.76502401,  1.90338155],\n",
       "       [ 2.24405517,  1.63074071],\n",
       "       [ 2.06823798,  2.39214283],\n",
       "       [ 1.51775503,  2.05539016],\n",
       "       [ 2.07796484,  2.23454686],\n",
       "       [ 1.62891479,  1.60386302],\n",
       "       [ 2.15658247,  2.0890954 ],\n",
       "       [ 2.07514786,  2.10393446],\n",
       "       [ 1.79599258,  2.06967611],\n",
       "       [ 2.08792174,  1.78569457],\n",
       "       [ 2.55973235,  2.14214988],\n",
       "       [ 1.64260895,  2.19696608],\n",
       "       [ 1.7075955 ,  2.23612538],\n",
       "       [ 2.34757867,  1.7537953 ],\n",
       "       [ 2.28901284,  2.12383428],\n",
       "       [ 2.24661805,  2.56903789],\n",
       "       [ 1.92638357,  1.77387915],\n",
       "       [ 1.73314567,  1.75525691],\n",
       "       [ 1.97686949,  2.10234559],\n",
       "       [ 2.08300724,  2.24815497],\n",
       "       [ 2.00390057,  2.43606022],\n",
       "       [ 1.92060295,  2.81605075],\n",
       "       [ 2.1877002 ,  1.74285273],\n",
       "       [ 1.67873225,  2.14474172],\n",
       "       [ 1.93296116,  2.21420015],\n",
       "       [ 2.14197129,  1.97815133],\n",
       "       [ 1.74596188,  1.54554583],\n",
       "       [ 1.86604551,  2.25691964],\n",
       "       [ 2.06422812,  1.62627837],\n",
       "       [ 2.05195428,  2.11559521],\n",
       "       [ 1.73484277,  2.04611753],\n",
       "       [ 2.01746262,  1.65710891],\n",
       "       [-1.85098575, -2.04147929],\n",
       "       [-1.80569344, -1.54309104],\n",
       "       [-2.07024601, -2.07024109],\n",
       "       [-1.52623616, -1.76976958],\n",
       "       [-2.14084232, -1.83723199],\n",
       "       [-2.13902531, -2.13971893],\n",
       "       [-1.92741132, -2.57398407],\n",
       "       [-2.51747535, -2.16868626],\n",
       "       [-2.30384934, -1.9057258 ],\n",
       "       [-2.27240722, -2.42369111],\n",
       "       [-1.56030537, -2.06773289],\n",
       "       [-1.97974154, -2.42742446],\n",
       "       [-2.16331482, -1.96672322],\n",
       "       [-2.34529807, -1.88729059],\n",
       "       [-2.18019161, -2.08750812],\n",
       "       [-2.18051198, -1.44431654],\n",
       "       [-2.00404917, -2.31731328],\n",
       "       [-1.75323653, -2.36625309],\n",
       "       [-1.93734092, -2.58790104],\n",
       "       [-2.39845581, -1.94094163],\n",
       "       [-1.77846003, -1.94858952],\n",
       "       [-2.03469448, -2.09033111],\n",
       "       [-2.4435566 , -2.21595326],\n",
       "       [-2.13819163, -1.68286333],\n",
       "       [-1.89691451, -2.52891205],\n",
       "       [-1.90277481, -2.11552468],\n",
       "       [-2.2030766 , -1.81649711],\n",
       "       [-1.69070014, -1.72061596],\n",
       "       [-2.25176526, -2.09276371],\n",
       "       [-1.90062097, -1.70733646],\n",
       "       [-2.14375227, -2.05569769],\n",
       "       [-2.33190049, -2.35886199],\n",
       "       [-1.75624225, -1.59312799],\n",
       "       [-2.02160304, -1.69894013],\n",
       "       [-1.89150919, -2.19353593],\n",
       "       [-1.89158132, -1.53858903],\n",
       "       [-2.01074781, -1.5306069 ],\n",
       "       [-2.78592353, -1.75342925],\n",
       "       [-1.97388588, -2.08970221],\n",
       "       [-1.97247177, -2.59627067],\n",
       "       [-2.06590157, -1.89286623],\n",
       "       [-1.55663179, -2.15548107],\n",
       "       [-2.24254808, -2.15052711],\n",
       "       [-1.72537936, -1.90137467],\n",
       "       [-2.15892806, -1.84601977],\n",
       "       [-1.97087674, -1.7094065 ],\n",
       "       [-2.21061593, -2.09829864],\n",
       "       [-2.11763245, -2.43905448],\n",
       "       [-1.91116392, -1.92168342],\n",
       "       [-1.99846596, -2.07037614],\n",
       "       [-2.42461122, -2.1261936 ],\n",
       "       [-2.10281435, -2.24068318],\n",
       "       [-2.04838571, -1.87878474],\n",
       "       [-1.43414423, -1.94762666],\n",
       "       [-1.92273488, -2.02233377],\n",
       "       [-2.57563136, -2.00795416],\n",
       "       [-1.98193094, -1.26102737],\n",
       "       [-2.05770829, -1.9095358 ],\n",
       "       [-2.01041353, -2.35060341],\n",
       "       [-1.65715316, -1.77442009],\n",
       "       [-1.76269042, -2.27281624],\n",
       "       [-1.57916171, -2.42055532],\n",
       "       [-1.82394287, -1.34286331],\n",
       "       [-2.2971609 , -2.16988932],\n",
       "       [-1.97010459, -2.1510427 ],\n",
       "       [-2.46519903, -1.97943111],\n",
       "       [-2.31869111, -1.85792227],\n",
       "       [-2.27582727, -1.53501968],\n",
       "       [-2.23497599, -2.09661845],\n",
       "       [-1.75594483, -2.36925929],\n",
       "       [-1.93176202, -1.60785717],\n",
       "       [-2.48224497, -1.94460984],\n",
       "       [-1.92203516, -1.76545314],\n",
       "       [-2.37108521, -2.39613698],\n",
       "       [-1.84341753, -1.9109046 ],\n",
       "       [-1.92485214, -1.89606554],\n",
       "       [-2.20400742, -1.93032389],\n",
       "       [-1.91207826, -2.21430543],\n",
       "       [-1.44026765, -1.85785012],\n",
       "       [-2.35739105, -1.80303392],\n",
       "       [-2.2924045 , -1.76387462],\n",
       "       [-1.65242133, -2.2462047 ],\n",
       "       [-1.71098716, -1.87616572],\n",
       "       [-1.75338195, -1.43096211],\n",
       "       [-2.07361643, -2.22612085],\n",
       "       [-2.26685433, -2.24474309],\n",
       "       [-2.02313051, -1.89765441],\n",
       "       [-1.91699276, -1.75184503],\n",
       "       [-1.99609943, -1.56393978],\n",
       "       [-2.07939705, -1.18394925],\n",
       "       [-1.8122998 , -2.25714727],\n",
       "       [-2.32126775, -1.85525828],\n",
       "       [-2.06703884, -1.78579985],\n",
       "       [-1.85802871, -2.02184867],\n",
       "       [-2.25403812, -2.45445417],\n",
       "       [-2.13395449, -1.74308036],\n",
       "       [-1.93577188, -2.37372163],\n",
       "       [-1.94804572, -1.88440479],\n",
       "       [-2.26515723, -1.95388247],\n",
       "       [-1.98253738, -2.34289109],\n",
       "       [ 3.01898458,  1.92614894],\n",
       "       [ 1.57612593,  1.61987267],\n",
       "       [-1.12407079, -1.65126525],\n",
       "       [ 2.47488924,  2.48090716],\n",
       "       [ 2.93657855,  3.30592442],\n",
       "       [ 0.09073919,  0.01213036],\n",
       "       [ 2.38636143,  1.19971145],\n",
       "       [ 1.61573502,  2.36634136],\n",
       "       [ 3.12004273, -1.29603875],\n",
       "       [-0.99533638, -3.24814448],\n",
       "       [ 0.62624113, -3.71246181],\n",
       "       [-0.27521585,  0.34115708],\n",
       "       [-1.70766998,  0.72666608],\n",
       "       [-3.755998  , -3.70121449],\n",
       "       [ 2.58080449, -1.11847487],\n",
       "       [-2.9835159 ,  0.17794608],\n",
       "       [ 2.15994842, -2.27343178],\n",
       "       [ 0.98312381, -3.31722028],\n",
       "       [-3.58654623,  0.25083705],\n",
       "       [ 0.32508097,  1.09943921]])"
      ]
     },
     "execution_count": 30,
     "metadata": {},
     "output_type": "execute_result"
    }
   ],
   "source": [
    "import numpy as np\n",
    "import matplotlib.pyplot as plt\n",
    "from sklearn.neighbors import LocalOutlierFactor\n",
    "\n",
    "print(__doc__)\n",
    "\n",
    "np.random.seed(42)\n",
    "\n",
    "# Generate train data\n",
    "X_inliers = 0.3 * np.random.randn(100, 2)\n",
    "X_inliers = np.r_[X_inliers + 2, X_inliers - 2]\n",
    "\n",
    "# Generate some outliers\n",
    "X_outliers = np.random.uniform(low=-4, high=4, size=(20, 2))\n",
    "X = np.r_[X_inliers, X_outliers]\n",
    "X"
   ]
  },
  {
   "cell_type": "code",
   "execution_count": 31,
   "metadata": {},
   "outputs": [
    {
     "data": {
      "text/plain": [
       "200"
      ]
     },
     "execution_count": 31,
     "metadata": {},
     "output_type": "execute_result"
    }
   ],
   "source": [
    "n_inliers = len(X_inliers)\n",
    "n_inliers"
   ]
  },
  {
   "cell_type": "code",
   "execution_count": 32,
   "metadata": {},
   "outputs": [
    {
     "data": {
      "text/plain": [
       "20"
      ]
     },
     "execution_count": 32,
     "metadata": {},
     "output_type": "execute_result"
    }
   ],
   "source": [
    "n_outliers = len(X_outliers)\n",
    "n_outliers"
   ]
  },
  {
   "cell_type": "code",
   "execution_count": 33,
   "metadata": {},
   "outputs": [
    {
     "data": {
      "text/plain": [
       "220"
      ]
     },
     "execution_count": 33,
     "metadata": {},
     "output_type": "execute_result"
    }
   ],
   "source": [
    "len(X)"
   ]
  },
  {
   "cell_type": "code",
   "execution_count": 34,
   "metadata": {},
   "outputs": [
    {
     "data": {
      "text/plain": [
       "array([1, 1, 1, 1, 1, 1, 1, 1, 1, 1, 1, 1, 1, 1, 1, 1, 1, 1, 1, 1, 1, 1,\n",
       "       1, 1, 1, 1, 1, 1, 1, 1, 1, 1, 1, 1, 1, 1, 1, 1, 1, 1, 1, 1, 1, 1,\n",
       "       1, 1, 1, 1, 1, 1, 1, 1, 1, 1, 1, 1, 1, 1, 1, 1, 1, 1, 1, 1, 1, 1,\n",
       "       1, 1, 1, 1, 1, 1, 1, 1, 1, 1, 1, 1, 1, 1, 1, 1, 1, 1, 1, 1, 1, 1,\n",
       "       1, 1, 1, 1, 1, 1, 1, 1, 1, 1, 1, 1, 1, 1, 1, 1, 1, 1, 1, 1, 1, 1,\n",
       "       1, 1, 1, 1, 1, 1, 1, 1, 1, 1, 1, 1, 1, 1, 1, 1, 1, 1, 1, 1, 1, 1,\n",
       "       1, 1, 1, 1, 1, 1, 1, 1, 1, 1, 1, 1, 1, 1, 1, 1, 1, 1, 1, 1, 1, 1,\n",
       "       1, 1, 1, 1, 1, 1, 1, 1, 1, 1, 1, 1, 1, 1, 1, 1, 1, 1, 1, 1, 1, 1,\n",
       "       1, 1, 1, 1, 1, 1, 1, 1, 1, 1, 1, 1, 1, 1, 1, 1, 1, 1, 1, 1, 1, 1,\n",
       "       1, 1, 1, 1, 1, 1, 1, 1, 1, 1, 1, 1, 1, 1, 1, 1, 1, 1, 1, 1, 1, 1])"
      ]
     },
     "execution_count": 34,
     "metadata": {},
     "output_type": "execute_result"
    }
   ],
   "source": [
    "ground_truth = np.ones(len(X), dtype=int)\n",
    "ground_truth"
   ]
  },
  {
   "cell_type": "code",
   "execution_count": 36,
   "metadata": {},
   "outputs": [
    {
     "data": {
      "text/plain": [
       "220"
      ]
     },
     "execution_count": 36,
     "metadata": {},
     "output_type": "execute_result"
    }
   ],
   "source": [
    "len(ground_truth)"
   ]
  },
  {
   "cell_type": "code",
   "execution_count": 37,
   "metadata": {},
   "outputs": [
    {
     "data": {
      "text/plain": [
       "array([ 1,  1,  1,  1,  1,  1,  1,  1,  1,  1,  1,  1,  1,  1,  1,  1,  1,\n",
       "        1,  1,  1,  1,  1,  1,  1,  1,  1,  1,  1,  1,  1,  1,  1,  1,  1,\n",
       "        1,  1,  1,  1,  1,  1,  1,  1,  1,  1,  1,  1,  1,  1,  1,  1,  1,\n",
       "        1,  1,  1,  1,  1,  1,  1,  1,  1,  1,  1,  1,  1,  1,  1,  1,  1,\n",
       "        1,  1,  1,  1,  1,  1,  1,  1,  1,  1,  1,  1,  1,  1,  1,  1,  1,\n",
       "        1,  1,  1,  1,  1,  1,  1,  1,  1,  1,  1,  1,  1,  1,  1,  1,  1,\n",
       "        1,  1,  1,  1,  1,  1,  1,  1,  1,  1,  1,  1,  1,  1,  1,  1,  1,\n",
       "        1,  1,  1,  1,  1,  1,  1,  1,  1,  1,  1,  1,  1,  1,  1,  1,  1,\n",
       "        1,  1,  1,  1,  1,  1,  1,  1,  1,  1,  1,  1,  1,  1,  1,  1,  1,\n",
       "        1,  1,  1,  1,  1,  1,  1,  1,  1,  1,  1,  1,  1,  1,  1,  1,  1,\n",
       "        1,  1,  1,  1,  1,  1,  1,  1,  1,  1,  1,  1,  1,  1,  1,  1,  1,\n",
       "        1,  1,  1,  1,  1,  1,  1,  1,  1,  1,  1,  1,  1, -1, -1, -1, -1,\n",
       "       -1, -1, -1, -1, -1, -1, -1, -1, -1, -1, -1, -1, -1, -1, -1, -1])"
      ]
     },
     "execution_count": 37,
     "metadata": {},
     "output_type": "execute_result"
    }
   ],
   "source": [
    "ground_truth[-n_outliers:] = -1\n",
    "ground_truth"
   ]
  },
  {
   "cell_type": "code",
   "execution_count": 38,
   "metadata": {},
   "outputs": [
    {
     "data": {
      "text/plain": [
       "array([ 1,  1,  1,  1,  1,  1,  1,  1,  1,  1,  1,  1,  1,  1,  1,  1,  1,\n",
       "        1,  1,  1,  1,  1,  1,  1,  1,  1,  1,  1,  1,  1,  1,  1,  1,  1,\n",
       "        1,  1,  1, -1,  1,  1,  1,  1,  1,  1,  1,  1,  1,  1,  1,  1,  1,\n",
       "        1,  1,  1,  1,  1,  1,  1,  1,  1,  1,  1,  1,  1,  1,  1,  1,  1,\n",
       "        1,  1,  1,  1,  1,  1,  1,  1,  1,  1,  1,  1,  1,  1,  1,  1,  1,\n",
       "        1,  1,  1,  1, -1,  1,  1,  1,  1,  1,  1,  1,  1,  1,  1,  1,  1,\n",
       "        1,  1,  1,  1,  1,  1,  1,  1,  1,  1,  1,  1,  1,  1,  1,  1,  1,\n",
       "        1,  1,  1,  1,  1,  1,  1,  1,  1,  1,  1,  1,  1,  1,  1,  1,  1,\n",
       "        1, -1,  1,  1,  1,  1,  1,  1,  1,  1,  1,  1,  1,  1,  1,  1,  1,\n",
       "        1,  1,  1, -1,  1,  1,  1,  1,  1,  1,  1,  1,  1,  1,  1,  1,  1,\n",
       "        1,  1,  1,  1,  1,  1,  1,  1,  1,  1,  1,  1,  1,  1,  1,  1,  1,\n",
       "        1,  1, -1,  1,  1,  1,  1,  1,  1,  1,  1,  1,  1, -1,  1, -1,  1,\n",
       "       -1, -1, -1,  1, -1, -1, -1, -1, -1, -1, -1, -1, -1, -1, -1, -1])"
      ]
     },
     "execution_count": 38,
     "metadata": {},
     "output_type": "execute_result"
    }
   ],
   "source": [
    "# fit the model for outlier detection (default)\n",
    "clf = LocalOutlierFactor(n_neighbors=20, contamination=0.1)\n",
    "# use fit_predict to compute the predicted labels of the training samples\n",
    "# (when LOF is used for outlier detection, the estimator has no predict,\n",
    "# decision_function and score_samples methods).\n",
    "y_pred = clf.fit_predict(X)\n",
    "y_pred"
   ]
  },
  {
   "cell_type": "code",
   "execution_count": 42,
   "metadata": {},
   "outputs": [
    {
     "data": {
      "text/plain": [
       "8"
      ]
     },
     "execution_count": 42,
     "metadata": {},
     "output_type": "execute_result"
    }
   ],
   "source": [
    "n_errors = (y_pred != ground_truth).sum()\n",
    "n_errors"
   ]
  },
  {
   "cell_type": "code",
   "execution_count": 19,
   "metadata": {},
   "outputs": [
    {
     "data": {
      "text/plain": [
       "array([1, 2])"
      ]
     },
     "execution_count": 19,
     "metadata": {},
     "output_type": "execute_result"
    }
   ],
   "source": [
    "\n",
    "X_scores = clf.negative_outlier_factor_\n",
    "\n",
    "plt.title(\"Local Outlier Factor (LOF)\")\n",
    "plt.scatter(X[:, 0], X[:, 1], color='k', s=3., label='Data points')\n",
    "# plot circles with radius proportional to the outlier scores\n",
    "radius = (X_scores.max() - X_scores) / (X_scores.max() - X_scores.min())\n",
    "plt.scatter(X[:, 0], X[:, 1], s=1000 * radius, edgecolors='r',\n",
    "            facecolors='none', label='Outlier scores')\n",
    "plt.axis('tight')\n",
    "plt.xlim((-5, 5))\n",
    "plt.ylim((-5, 5))\n",
    "plt.xlabel(\"prediction errors: %d\" % (n_errors))\n",
    "legend = plt.legend(loc='upper left')\n",
    "legend.legendHandles[0]._sizes = [10]\n",
    "legend.legendHandles[1]._sizes = [20]\n",
    "plt.show()"
   ]
  },
  {
   "cell_type": "code",
   "execution_count": null,
   "metadata": {},
   "outputs": [],
   "source": [
    "\n",
    "V = np.array([1,2,3,4,5,6 ])\n",
    "Y = array([7,8,9,10,11,12])\n",
    "np.r_[V[0:2],Y[0],V[3],Y[1:3],V[4:],Y[4:]]"
   ]
  }
 ],
 "metadata": {
  "kernelspec": {
   "display_name": "Python 3",
   "language": "python",
   "name": "python3"
  },
  "language_info": {
   "codemirror_mode": {
    "name": "ipython",
    "version": 3
   },
   "file_extension": ".py",
   "mimetype": "text/x-python",
   "name": "python",
   "nbconvert_exporter": "python",
   "pygments_lexer": "ipython3",
   "version": "3.8.5"
  }
 },
 "nbformat": 4,
 "nbformat_minor": 4
}
